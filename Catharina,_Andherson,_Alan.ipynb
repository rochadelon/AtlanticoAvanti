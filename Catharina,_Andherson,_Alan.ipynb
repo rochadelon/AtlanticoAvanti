{
  "metadata": {
    "kernelspec": {
      "language": "python",
      "display_name": "Python 3",
      "name": "python3"
    },
    "language_info": {
      "name": "python",
      "version": "3.10.12",
      "mimetype": "text/x-python",
      "codemirror_mode": {
        "name": "ipython",
        "version": 3
      },
      "pygments_lexer": "ipython3",
      "nbconvert_exporter": "python",
      "file_extension": ".py"
    },
    "colab": {
      "provenance": [],
      "include_colab_link": true
    }
  },
  "nbformat_minor": 0,
  "nbformat": 4,
  "cells": [
    {
      "cell_type": "markdown",
      "metadata": {
        "id": "view-in-github",
        "colab_type": "text"
      },
      "source": [
        "<a href=\"https://colab.research.google.com/github/rochadelon/AtlanticoAvanti/blob/main/Catharina%2C_Andherson%2C_Alan.ipynb\" target=\"_parent\"><img src=\"https://colab.research.google.com/assets/colab-badge.svg\" alt=\"Open In Colab\"/></a>"
      ]
    },
    {
      "cell_type": "markdown",
      "source": [
        "## Catharina, Andherson, Alan\n",
        "\n",
        "\n",
        "\n"
      ],
      "metadata": {
        "id": "1KvF8D0GPoG3"
      }
    },
    {
      "cell_type": "markdown",
      "source": [
        "## Importando as bibliotecas"
      ],
      "metadata": {
        "id": "rv_4HMFKW-nn"
      }
    },
    {
      "source": [
        "\n",
        "\n",
        "import os\n",
        "for dirname, _, filenames in os.walk('/kaggle/input'):\n",
        "    for filename in filenames:\n",
        "        print(os.path.join(dirname, filename))\n",
        "\n",
        "\n",
        "import kagglehub # disponibiliza os datasets para dowload no método dataset_download\n",
        "abdallahwagih_retina_blood_vessel_path = kagglehub.dataset_download('abdallahwagih/retina-blood-vessel')\n",
        "\n",
        "print('Data source import complete.')\n"
      ],
      "metadata": {
        "id": "tuMPulgpPcgc",
        "colab": {
          "base_uri": "https://localhost:8080/"
        },
        "outputId": "d91e3325-d87c-4393-c610-2758c26d2cb3"
      },
      "cell_type": "code",
      "outputs": [
        {
          "output_type": "stream",
          "name": "stdout",
          "text": [
            "Data source import complete.\n"
          ]
        }
      ],
      "execution_count": null
    },
    {
      "cell_type": "code",
      "source": [
        "import numpy as np # Manipulações com matrizes\n",
        "import pandas as pd #Permite transformar o datset em um dataframe que funciona como uma planilha\n",
        "\n",
        "# Percorre arquivos internos do kagle para\n",
        "\n"
      ],
      "metadata": {
        "_uuid": "8f2839f25d086af736a60e9eeb907d3b93b6e0e5",
        "_cell_guid": "b1076dfc-b9ad-4769-8c92-a6c4dae69d19",
        "execution": {
          "iopub.status.busy": "2023-09-13T21:03:49.907222Z",
          "iopub.execute_input": "2023-09-13T21:03:49.908055Z",
          "iopub.status.idle": "2023-09-13T21:03:50.297952Z",
          "shell.execute_reply.started": "2023-09-13T21:03:49.907992Z",
          "shell.execute_reply": "2023-09-13T21:03:50.297046Z"
        },
        "trusted": true,
        "id": "1pyn6Qp5Pcgi"
      },
      "execution_count": null,
      "outputs": []
    },
    {
      "cell_type": "markdown",
      "source": [
        "**Tensorflow: biblioteca de machine learning**  \n",
        "**keras: api de alto nível focada em redes neurais**\n",
        "**utils: módulo de ferramanetas**"
      ],
      "metadata": {
        "id": "MyVVwP-GRZPv"
      }
    },
    {
      "cell_type": "code",
      "source": [
        "import tensorflow as tf\n",
        "from tensorflow.keras import utils,Sequential,layers\n"
      ],
      "metadata": {
        "execution": {
          "iopub.status.busy": "2023-09-13T21:04:24.905551Z",
          "iopub.execute_input": "2023-09-13T21:04:24.905874Z",
          "iopub.status.idle": "2023-09-13T21:04:24.910966Z",
          "shell.execute_reply.started": "2023-09-13T21:04:24.905849Z",
          "shell.execute_reply": "2023-09-13T21:04:24.909882Z"
        },
        "trusted": true,
        "id": "nrfeQ5CHPcgj"
      },
      "execution_count": null,
      "outputs": []
    },
    {
      "cell_type": "markdown",
      "source": [
        "**OpenCV2 biblioteca de visão computacional**"
      ],
      "metadata": {
        "id": "fJzN5ZNyTb7j"
      }
    },
    {
      "cell_type": "code",
      "source": [
        "import cv2\n",
        "\n",
        "im = cv2.imread('/kaggle/input/retina-blood-vessel/Data/train/image/1.png')\n",
        "print(type(im))\n",
        "# <class 'numpy.ndarray'>\n",
        "\n",
        "print(im.shape)\n",
        "print(type(im.shape))\n",
        "# (512, 512, 3)\n",
        "# <class 'tuple'>\n"
      ],
      "metadata": {
        "execution": {
          "iopub.status.busy": "2023-09-13T21:04:24.912322Z",
          "iopub.execute_input": "2023-09-13T21:04:24.912964Z",
          "iopub.status.idle": "2023-09-13T21:04:24.931928Z",
          "shell.execute_reply.started": "2023-09-13T21:04:24.912928Z",
          "shell.execute_reply": "2023-09-13T21:04:24.931064Z"
        },
        "trusted": true,
        "id": "gcUEmReOPcgk",
        "colab": {
          "base_uri": "https://localhost:8080/",
          "height": 228
        },
        "outputId": "f43b0457-ed6f-4796-8859-5fce3ed181d6"
      },
      "execution_count": null,
      "outputs": [
        {
          "output_type": "stream",
          "name": "stdout",
          "text": [
            "<class 'NoneType'>\n"
          ]
        },
        {
          "output_type": "error",
          "ename": "AttributeError",
          "evalue": "'NoneType' object has no attribute 'shape'",
          "traceback": [
            "\u001b[0;31m---------------------------------------------------------------------------\u001b[0m",
            "\u001b[0;31mAttributeError\u001b[0m                            Traceback (most recent call last)",
            "\u001b[0;32m<ipython-input-29-3a0c96800a52>\u001b[0m in \u001b[0;36m<cell line: 0>\u001b[0;34m()\u001b[0m\n\u001b[1;32m      5\u001b[0m \u001b[0;31m# <class 'numpy.ndarray'>\u001b[0m\u001b[0;34m\u001b[0m\u001b[0;34m\u001b[0m\u001b[0m\n\u001b[1;32m      6\u001b[0m \u001b[0;34m\u001b[0m\u001b[0m\n\u001b[0;32m----> 7\u001b[0;31m \u001b[0mprint\u001b[0m\u001b[0;34m(\u001b[0m\u001b[0mim\u001b[0m\u001b[0;34m.\u001b[0m\u001b[0mshape\u001b[0m\u001b[0;34m)\u001b[0m\u001b[0;34m\u001b[0m\u001b[0;34m\u001b[0m\u001b[0m\n\u001b[0m\u001b[1;32m      8\u001b[0m \u001b[0mprint\u001b[0m\u001b[0;34m(\u001b[0m\u001b[0mtype\u001b[0m\u001b[0;34m(\u001b[0m\u001b[0mim\u001b[0m\u001b[0;34m.\u001b[0m\u001b[0mshape\u001b[0m\u001b[0;34m)\u001b[0m\u001b[0;34m)\u001b[0m\u001b[0;34m\u001b[0m\u001b[0;34m\u001b[0m\u001b[0m\n\u001b[1;32m      9\u001b[0m \u001b[0;31m# (512, 512, 3)\u001b[0m\u001b[0;34m\u001b[0m\u001b[0;34m\u001b[0m\u001b[0m\n",
            "\u001b[0;31mAttributeError\u001b[0m: 'NoneType' object has no attribute 'shape'"
          ]
        }
      ]
    },
    {
      "cell_type": "markdown",
      "source": [
        "## Pré-processamento/Normalização  "
      ],
      "metadata": {
        "id": "mpec3DE_WxmG"
      }
    },
    {
      "cell_type": "code",
      "source": [
        "train= utils.image_dataset_from_directory('/kaggle/input/retina-blood-vessel/Data/train',image_size=(128,128),seed=42) # utiliza o módeulo utils do tf.keras para importar as imagens de treino para o tensor com tamanho de imagem específica\n",
        "test= utils.image_dataset_from_directory('/kaggle/input/retina-blood-vessel/Data/test',image_size=(128,128),seed=42) # # utiliza o módeulo utils do tf.keras para importar as imagens de teste para o tensor com tamanho de imagem específica\n",
        "\n",
        "# Normalização\n",
        "\n",
        "def process(image,label):\n",
        "    image = tf.cast(image/255. ,tf.float32) # tf.cast converte o tensor para float32 e divide a imagem em 255 para deixa-la no range de 0 a 1.\n",
        "    return image,label\n",
        "\n",
        "train = train.map(process) # .map aplica a função process a cada um dos elementos do dataset\n",
        "test = test.map(process)\n"
      ],
      "metadata": {
        "execution": {
          "iopub.status.busy": "2023-09-13T21:04:24.93487Z",
          "iopub.execute_input": "2023-09-13T21:04:24.935148Z",
          "iopub.status.idle": "2023-09-13T21:04:25.045352Z",
          "shell.execute_reply.started": "2023-09-13T21:04:24.935125Z",
          "shell.execute_reply": "2023-09-13T21:04:25.044442Z"
        },
        "trusted": true,
        "id": "vB8-liihPcgo"
      },
      "execution_count": null,
      "outputs": []
    },
    {
      "cell_type": "markdown",
      "source": [
        "Since the dataset is realtivally small lets create our own model withou transfer learning"
      ],
      "metadata": {
        "id": "-XelaSsBPcgp"
      }
    },
    {
      "cell_type": "code",
      "source": [
        "model = Sequential([\n",
        "    layers.Conv2D(128,5,activation=\"relu\",input_shape=(128,128,3)),\n",
        "    layers.MaxPool2D(),\n",
        "    layers.BatchNormalization(),\n",
        "\n",
        "    layers.Conv2D(64,5,activation=\"relu\"),\n",
        "    layers.MaxPool2D(),\n",
        "    layers.BatchNormalization(),\n",
        "\n",
        "    layers.Conv2D(32,5,activation=\"relu\"),\n",
        "    layers.MaxPool2D(),\n",
        "    layers.BatchNormalization(),\n",
        "\n",
        "    layers.Conv2D(16,5,activation=\"relu\"),\n",
        "    layers.MaxPool2D(),\n",
        "    layers.BatchNormalization(),\n",
        "\n",
        "    layers.Flatten(),\n",
        "    layers.Dense(1,activation=\"sigmoid\")\n",
        "])\n"
      ],
      "metadata": {
        "execution": {
          "iopub.status.busy": "2023-09-13T21:04:25.046638Z",
          "iopub.execute_input": "2023-09-13T21:04:25.046974Z",
          "iopub.status.idle": "2023-09-13T21:04:25.170691Z",
          "shell.execute_reply.started": "2023-09-13T21:04:25.046941Z",
          "shell.execute_reply": "2023-09-13T21:04:25.169783Z"
        },
        "trusted": true,
        "id": "X6WdSxBBPcgp"
      },
      "execution_count": null,
      "outputs": []
    },
    {
      "cell_type": "code",
      "source": [
        "model.summary()"
      ],
      "metadata": {
        "execution": {
          "iopub.status.busy": "2023-09-13T21:04:25.171966Z",
          "iopub.execute_input": "2023-09-13T21:04:25.172319Z",
          "iopub.status.idle": "2023-09-13T21:04:25.210919Z",
          "shell.execute_reply.started": "2023-09-13T21:04:25.172287Z",
          "shell.execute_reply": "2023-09-13T21:04:25.21019Z"
        },
        "trusted": true,
        "id": "WkAHh-0LPcgq"
      },
      "execution_count": null,
      "outputs": []
    },
    {
      "cell_type": "markdown",
      "source": [
        "WOW 279k+ prams lets continue\n",
        "\n",
        "lets compile the model with binary_crossentropy as the loss, Adam as optimizer and Accuracy and recall as metrics\n"
      ],
      "metadata": {
        "id": "NH--U2DlPcgr"
      }
    },
    {
      "cell_type": "code",
      "source": [
        "model.compile(loss=\"binary_crossentropy\",\n",
        "              optimizer=\"Adam\",\n",
        "              metrics=[\"Accuracy\"]\n",
        ")"
      ],
      "metadata": {
        "execution": {
          "iopub.status.busy": "2023-09-13T21:04:25.211855Z",
          "iopub.execute_input": "2023-09-13T21:04:25.212285Z",
          "iopub.status.idle": "2023-09-13T21:04:25.237256Z",
          "shell.execute_reply.started": "2023-09-13T21:04:25.212253Z",
          "shell.execute_reply": "2023-09-13T21:04:25.236545Z"
        },
        "trusted": true,
        "id": "d2WzWW5WPcgr"
      },
      "execution_count": null,
      "outputs": []
    },
    {
      "cell_type": "markdown",
      "source": [
        "lets get some callbacks"
      ],
      "metadata": {
        "id": "Zz62qh4YPcgr"
      }
    },
    {
      "cell_type": "code",
      "source": [
        "es = tf.keras.callbacks.EarlyStopping(\n",
        "    monitor='Accuracy',\n",
        "    min_delta=0,\n",
        "    patience=0,\n",
        "    verbose=0,\n",
        "    mode='auto',\n",
        "    baseline=None,\n",
        "    restore_best_weights=True,\n",
        "    start_from_epoch=10\n",
        ")\n"
      ],
      "metadata": {
        "execution": {
          "iopub.status.busy": "2023-09-13T21:04:25.238146Z",
          "iopub.execute_input": "2023-09-13T21:04:25.238448Z",
          "iopub.status.idle": "2023-09-13T21:04:25.244895Z",
          "shell.execute_reply.started": "2023-09-13T21:04:25.238419Z",
          "shell.execute_reply": "2023-09-13T21:04:25.244092Z"
        },
        "trusted": true,
        "id": "oi7v7BYEPcgs"
      },
      "execution_count": null,
      "outputs": []
    },
    {
      "cell_type": "code",
      "source": [
        "with tf.device('/GPU:0'):\n",
        "    model.fit(train,epochs=50,callbacks=[es])"
      ],
      "metadata": {
        "execution": {
          "iopub.status.busy": "2023-09-13T21:05:31.913056Z",
          "iopub.execute_input": "2023-09-13T21:05:31.913621Z",
          "iopub.status.idle": "2023-09-13T21:05:41.619347Z",
          "shell.execute_reply.started": "2023-09-13T21:05:31.91359Z",
          "shell.execute_reply": "2023-09-13T21:05:41.618438Z"
        },
        "trusted": true,
        "id": "Y25FM7paPcgs"
      },
      "execution_count": null,
      "outputs": []
    },
    {
      "cell_type": "markdown",
      "source": [
        "will that went 'to great' jokes asside everything was perfect great job we got a 100% on training great job!!"
      ],
      "metadata": {
        "id": "YX0o2W20Pcgs"
      }
    }
  ]
}