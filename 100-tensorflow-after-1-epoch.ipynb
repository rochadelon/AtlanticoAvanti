{
 "cells": [
  {
   "cell_type": "code",
   "execution_count": 1,
   "id": "ca53f849",
   "metadata": {
    "_cell_guid": "b1076dfc-b9ad-4769-8c92-a6c4dae69d19",
    "_uuid": "8f2839f25d086af736a60e9eeb907d3b93b6e0e5",
    "execution": {
     "iopub.execute_input": "2023-09-13T21:06:09.613242Z",
     "iopub.status.busy": "2023-09-13T21:06:09.612846Z",
     "iopub.status.idle": "2023-09-13T21:06:10.420525Z",
     "shell.execute_reply": "2023-09-13T21:06:10.419579Z"
    },
    "papermill": {
     "duration": 0.818733,
     "end_time": "2023-09-13T21:06:10.424036",
     "exception": false,
     "start_time": "2023-09-13T21:06:09.605303",
     "status": "completed"
    },
    "tags": []
   },
   "outputs": [],
   "source": [
    "# This Python 3 environment comes with many helpful analytics libraries installed\n",
    "# It is defined by the kaggle/python Docker image: https://github.com/kaggle/docker-python\n",
    "# For example, here's several helpful packages to load\n",
    "\n",
    "import numpy as np # linear algebra\n",
    "import pandas as pd # data processing, CSV file I/O (e.g. pd.read_csv)\n",
    "\n",
    "# Input data files are available in the read-only \"../input/\" directory\n",
    "# For example, running this (by clicking run or pressing Shift+Enter) will list all files under the input directory\n",
    "\n",
    "import os\n",
    "for dirname, _, filenames in os.walk('/kaggle/input'):\n",
    "    for filename in filenames:\n",
    "        print(os.path.join(dirname, filename))\n",
    "\n",
    "# You can write up to 20GB to the current directory (/kaggle/working/) that gets preserved as output when you create a version using \"Save & Run All\" \n",
    "# You can also write temporary files to /kaggle/temp/, but they won't be saved outside of the current session"
   ]
  },
  {
   "cell_type": "code",
   "execution_count": 2,
   "id": "3172748a",
   "metadata": {
    "execution": {
     "iopub.execute_input": "2023-09-13T21:06:10.437795Z",
     "iopub.status.busy": "2023-09-13T21:06:10.437410Z",
     "iopub.status.idle": "2023-09-13T21:06:18.555207Z",
     "shell.execute_reply": "2023-09-13T21:06:18.554185Z"
    },
    "papermill": {
     "duration": 8.127574,
     "end_time": "2023-09-13T21:06:18.558279",
     "exception": false,
     "start_time": "2023-09-13T21:06:10.430705",
     "status": "completed"
    },
    "tags": []
   },
   "outputs": [
    {
     "name": "stderr",
     "output_type": "stream",
     "text": [
      "2025-04-19 23:23:22.310570: I external/local_xla/xla/tsl/cuda/cudart_stub.cc:32] Could not find cuda drivers on your machine, GPU will not be used.\n",
      "2025-04-19 23:23:22.315969: I external/local_xla/xla/tsl/cuda/cudart_stub.cc:32] Could not find cuda drivers on your machine, GPU will not be used.\n",
      "2025-04-19 23:23:22.336551: E external/local_xla/xla/stream_executor/cuda/cuda_fft.cc:467] Unable to register cuFFT factory: Attempting to register factory for plugin cuFFT when one has already been registered\n",
      "WARNING: All log messages before absl::InitializeLog() is called are written to STDERR\n",
      "E0000 00:00:1745105002.396010    6232 cuda_dnn.cc:8579] Unable to register cuDNN factory: Attempting to register factory for plugin cuDNN when one has already been registered\n",
      "E0000 00:00:1745105002.412014    6232 cuda_blas.cc:1407] Unable to register cuBLAS factory: Attempting to register factory for plugin cuBLAS when one has already been registered\n",
      "W0000 00:00:1745105002.445883    6232 computation_placer.cc:177] computation placer already registered. Please check linkage and avoid linking the same target more than once.\n",
      "W0000 00:00:1745105002.445944    6232 computation_placer.cc:177] computation placer already registered. Please check linkage and avoid linking the same target more than once.\n",
      "W0000 00:00:1745105002.445948    6232 computation_placer.cc:177] computation placer already registered. Please check linkage and avoid linking the same target more than once.\n",
      "W0000 00:00:1745105002.445951    6232 computation_placer.cc:177] computation placer already registered. Please check linkage and avoid linking the same target more than once.\n",
      "2025-04-19 23:23:22.453921: I tensorflow/core/platform/cpu_feature_guard.cc:210] This TensorFlow binary is optimized to use available CPU instructions in performance-critical operations.\n",
      "To enable the following instructions: AVX2 FMA, in other operations, rebuild TensorFlow with the appropriate compiler flags.\n"
     ]
    }
   ],
   "source": [
    "import tensorflow as tf\n",
    "from tensorflow.keras import utils,Sequential,layers\n"
   ]
  },
  {
   "cell_type": "markdown",
   "id": "b2a5519e",
   "metadata": {},
   "source": [
    "### 1.Importação de bibliotecas"
   ]
  },
  {
   "cell_type": "code",
   "execution_count": 4,
   "id": "3b004912",
   "metadata": {
    "execution": {
     "iopub.execute_input": "2023-09-13T21:06:18.572027Z",
     "iopub.status.busy": "2023-09-13T21:06:18.571393Z",
     "iopub.status.idle": "2023-09-13T21:06:18.807535Z",
     "shell.execute_reply": "2023-09-13T21:06:18.806039Z"
    },
    "papermill": {
     "duration": 0.245241,
     "end_time": "2023-09-13T21:06:18.809802",
     "exception": false,
     "start_time": "2023-09-13T21:06:18.564561",
     "status": "completed"
    },
    "tags": []
   },
   "outputs": [
    {
     "name": "stdout",
     "output_type": "stream",
     "text": [
      "Reading package lists... Done\n",
      "E: List directory /var/lib/apt/lists/partial is missing. - Acquire (13: Permission denied)\n"
     ]
    },
    {
     "ename": "ImportError",
     "evalue": "libGL.so.1: cannot open shared object file: No such file or directory",
     "output_type": "error",
     "traceback": [
      "\u001b[31m---------------------------------------------------------------------------\u001b[39m",
      "\u001b[31mImportError\u001b[39m                               Traceback (most recent call last)",
      "\u001b[36mCell\u001b[39m\u001b[36m \u001b[39m\u001b[32mIn[4]\u001b[39m\u001b[32m, line 4\u001b[39m\n\u001b[32m      1\u001b[39m \u001b[38;5;66;03m# Install the missing system library required by OpenCV\u001b[39;00m\n\u001b[32m      2\u001b[39m get_ipython().system(\u001b[33m'\u001b[39m\u001b[33mapt-get update && apt-get install -y libgl1-mesa-glx\u001b[39m\u001b[33m'\u001b[39m)\n\u001b[32m----> \u001b[39m\u001b[32m4\u001b[39m \u001b[38;5;28;01mimport\u001b[39;00m\u001b[38;5;250m \u001b[39m\u001b[34;01mcv2\u001b[39;00m\n\u001b[32m      6\u001b[39m im = cv2.imread(\u001b[33m'\u001b[39m\u001b[33m/kaggle/input/retina-blood-vessel/Data/train/image/1.png\u001b[39m\u001b[33m'\u001b[39m)\n\u001b[32m      7\u001b[39m \u001b[38;5;28mprint\u001b[39m(\u001b[38;5;28mtype\u001b[39m(im))\n",
      "\u001b[31mImportError\u001b[39m: libGL.so.1: cannot open shared object file: No such file or directory"
     ]
    }
   ],
   "source": [
    "# Install the missing system library required by OpenCV\n",
    "!apt-get update && apt-get install -y libgl1-mesa-glx\n",
    "\n",
    "import cv2\n",
    "\n",
    "im = cv2.imread('/kaggle/input/retina-blood-vessel/Data/train/image/1.png')\n",
    "print(type(im))\n",
    "# <class 'numpy.ndarray'>\n",
    "\n",
    "print(im.shape)\n",
    "print(type(im.shape))\n",
    "# (512, 512, 3)\n",
    "# <class 'tuple'>\n"
   ]
  },
  {
   "cell_type": "markdown",
   "id": "c51b57b2",
   "metadata": {
    "papermill": {
     "duration": 0.005626,
     "end_time": "2023-09-13T21:06:18.821628",
     "exception": false,
     "start_time": "2023-09-13T21:06:18.816002",
     "status": "completed"
    },
    "tags": []
   },
   "source": [
    "Since the Data is so large lets normalize and load it and also minimize it to 128,128,3\n"
   ]
  },
  {
   "cell_type": "code",
   "execution_count": 4,
   "id": "d15b8420",
   "metadata": {
    "execution": {
     "iopub.execute_input": "2023-09-13T21:06:18.835045Z",
     "iopub.status.busy": "2023-09-13T21:06:18.834233Z",
     "iopub.status.idle": "2023-09-13T21:06:22.182094Z",
     "shell.execute_reply": "2023-09-13T21:06:22.181152Z"
    },
    "papermill": {
     "duration": 3.356778,
     "end_time": "2023-09-13T21:06:22.184306",
     "exception": false,
     "start_time": "2023-09-13T21:06:18.827528",
     "status": "completed"
    },
    "tags": []
   },
   "outputs": [
    {
     "name": "stdout",
     "output_type": "stream",
     "text": [
      "Found 160 files belonging to 2 classes.\n",
      "Found 40 files belonging to 2 classes.\n"
     ]
    }
   ],
   "source": [
    "train= utils.image_dataset_from_directory('/kaggle/input/retina-blood-vessel/Data/train',image_size=(128,128),seed=42)\n",
    "test= utils.image_dataset_from_directory('/kaggle/input/retina-blood-vessel/Data/test',image_size=(128,128),seed=42)\n",
    "def process(image,label):\n",
    "    image = tf.cast(image/255. ,tf.float32)\n",
    "    return image,label\n",
    "\n",
    "train = train.map(process)\n",
    "test = test.map(process)\n"
   ]
  },
  {
   "cell_type": "markdown",
   "id": "3add28dc",
   "metadata": {
    "papermill": {
     "duration": 0.005865,
     "end_time": "2023-09-13T21:06:22.196523",
     "exception": false,
     "start_time": "2023-09-13T21:06:22.190658",
     "status": "completed"
    },
    "tags": []
   },
   "source": [
    "Since the dataset is realtivally small lets create our own model withou transfer learning"
   ]
  },
  {
   "cell_type": "markdown",
   "id": "eacf4943",
   "metadata": {},
   "source": [
    "### Modelagem\n",
    "\n",
    "\n",
    "1. **Extração de Características:** A imagem de entrada passa por uma série de blocos convolucionais (Conv2D, MaxPool2D, BatchNormalization). Cada bloco reduz a resolução espacial da imagem (MaxPool2D) enquanto aumenta a capacidade de detectar padrões complexos (Conv2D com diferentes números de filtros). A BatchNormalization ajuda a estabilizar o processo. A ideia é que as camadas iniciais detectem características simples (bordas, texturas) e as camadas mais profundas detectem características mais complexas e abstratas (partes de objetos, etc.).\n",
    "\n",
    "2. **Achatamento:** Após a extração de características espaciais, a camada Flatten transforma tudo em um único vetor longo.\n",
    "\n",
    "3. **Classificação:** Este vetor é então alimentado na camada Dense final. Como há apenas um neurônio com ativação sigmoid, o modelo produzirá um único valor entre 0 e 1, indicando a probabilidade de a imagem pertencer a uma determinada classe (assumindo um problema de classificação binária).\n"
   ]
  },
  {
   "cell_type": "code",
   "execution_count": 4,
   "id": "17d2014c",
   "metadata": {
    "execution": {
     "iopub.execute_input": "2023-09-13T21:06:22.209703Z",
     "iopub.status.busy": "2023-09-13T21:06:22.209419Z",
     "iopub.status.idle": "2023-09-13T21:06:22.388130Z",
     "shell.execute_reply": "2023-09-13T21:06:22.387216Z"
    },
    "papermill": {
     "duration": 0.187842,
     "end_time": "2023-09-13T21:06:22.390392",
     "exception": false,
     "start_time": "2023-09-13T21:06:22.202550",
     "status": "completed"
    },
    "tags": []
   },
   "outputs": [],
   "source": [
    "model = Sequential([\n",
    "    layers.Conv2D(128,5,activation=\"relu\",input_shape=(128,128,3)),\n",
    "    layers.MaxPool2D(),\n",
    "    layers.BatchNormalization(),\n",
    "    \n",
    "    layers.Conv2D(64,5,activation=\"relu\"),\n",
    "    layers.MaxPool2D(),\n",
    "    layers.BatchNormalization(),\n",
    "\n",
    "    layers.Conv2D(32,5,activation=\"relu\"),\n",
    "    layers.MaxPool2D(),\n",
    "    layers.BatchNormalization(),\n",
    "\n",
    "    layers.Conv2D(16,5,activation=\"relu\"),\n",
    "    layers.MaxPool2D(),\n",
    "    layers.BatchNormalization(),\n",
    "    \n",
    "    layers.Flatten(),\n",
    "    layers.Dense(1,activation=\"sigmoid\")\n",
    "])\n"
   ]
  },
  {
   "cell_type": "code",
   "execution_count": 5,
   "id": "365265de",
   "metadata": {
    "execution": {
     "iopub.execute_input": "2023-09-13T21:06:22.404375Z",
     "iopub.status.busy": "2023-09-13T21:06:22.404092Z",
     "iopub.status.idle": "2023-09-13T21:06:22.444919Z",
     "shell.execute_reply": "2023-09-13T21:06:22.444131Z"
    },
    "papermill": {
     "duration": 0.076173,
     "end_time": "2023-09-13T21:06:22.473331",
     "exception": false,
     "start_time": "2023-09-13T21:06:22.397158",
     "status": "completed"
    },
    "tags": []
   },
   "outputs": [
    {
     "data": {
      "text/html": [
       "<pre style=\"white-space:pre;overflow-x:auto;line-height:normal;font-family:Menlo,'DejaVu Sans Mono',consolas,'Courier New',monospace\"><span style=\"font-weight: bold\">Model: \"sequential_1\"</span>\n",
       "</pre>\n"
      ],
      "text/plain": [
       "\u001b[1mModel: \"sequential_1\"\u001b[0m\n"
      ]
     },
     "metadata": {},
     "output_type": "display_data"
    },
    {
     "data": {
      "text/html": [
       "<pre style=\"white-space:pre;overflow-x:auto;line-height:normal;font-family:Menlo,'DejaVu Sans Mono',consolas,'Courier New',monospace\">┏━━━━━━━━━━━━━━━━━━━━━━━━━━━━━━━━━┳━━━━━━━━━━━━━━━━━━━━━━━━┳━━━━━━━━━━━━━━━┓\n",
       "┃<span style=\"font-weight: bold\"> Layer (type)                    </span>┃<span style=\"font-weight: bold\"> Output Shape           </span>┃<span style=\"font-weight: bold\">       Param # </span>┃\n",
       "┡━━━━━━━━━━━━━━━━━━━━━━━━━━━━━━━━━╇━━━━━━━━━━━━━━━━━━━━━━━━╇━━━━━━━━━━━━━━━┩\n",
       "│ conv2d_4 (<span style=\"color: #0087ff; text-decoration-color: #0087ff\">Conv2D</span>)               │ (<span style=\"color: #00d7ff; text-decoration-color: #00d7ff\">None</span>, <span style=\"color: #00af00; text-decoration-color: #00af00\">124</span>, <span style=\"color: #00af00; text-decoration-color: #00af00\">124</span>, <span style=\"color: #00af00; text-decoration-color: #00af00\">128</span>)  │         <span style=\"color: #00af00; text-decoration-color: #00af00\">9,728</span> │\n",
       "├─────────────────────────────────┼────────────────────────┼───────────────┤\n",
       "│ max_pooling2d_4 (<span style=\"color: #0087ff; text-decoration-color: #0087ff\">MaxPooling2D</span>)  │ (<span style=\"color: #00d7ff; text-decoration-color: #00d7ff\">None</span>, <span style=\"color: #00af00; text-decoration-color: #00af00\">62</span>, <span style=\"color: #00af00; text-decoration-color: #00af00\">62</span>, <span style=\"color: #00af00; text-decoration-color: #00af00\">128</span>)    │             <span style=\"color: #00af00; text-decoration-color: #00af00\">0</span> │\n",
       "├─────────────────────────────────┼────────────────────────┼───────────────┤\n",
       "│ batch_normalization_4           │ (<span style=\"color: #00d7ff; text-decoration-color: #00d7ff\">None</span>, <span style=\"color: #00af00; text-decoration-color: #00af00\">62</span>, <span style=\"color: #00af00; text-decoration-color: #00af00\">62</span>, <span style=\"color: #00af00; text-decoration-color: #00af00\">128</span>)    │           <span style=\"color: #00af00; text-decoration-color: #00af00\">512</span> │\n",
       "│ (<span style=\"color: #0087ff; text-decoration-color: #0087ff\">BatchNormalization</span>)            │                        │               │\n",
       "├─────────────────────────────────┼────────────────────────┼───────────────┤\n",
       "│ conv2d_5 (<span style=\"color: #0087ff; text-decoration-color: #0087ff\">Conv2D</span>)               │ (<span style=\"color: #00d7ff; text-decoration-color: #00d7ff\">None</span>, <span style=\"color: #00af00; text-decoration-color: #00af00\">58</span>, <span style=\"color: #00af00; text-decoration-color: #00af00\">58</span>, <span style=\"color: #00af00; text-decoration-color: #00af00\">64</span>)     │       <span style=\"color: #00af00; text-decoration-color: #00af00\">204,864</span> │\n",
       "├─────────────────────────────────┼────────────────────────┼───────────────┤\n",
       "│ max_pooling2d_5 (<span style=\"color: #0087ff; text-decoration-color: #0087ff\">MaxPooling2D</span>)  │ (<span style=\"color: #00d7ff; text-decoration-color: #00d7ff\">None</span>, <span style=\"color: #00af00; text-decoration-color: #00af00\">29</span>, <span style=\"color: #00af00; text-decoration-color: #00af00\">29</span>, <span style=\"color: #00af00; text-decoration-color: #00af00\">64</span>)     │             <span style=\"color: #00af00; text-decoration-color: #00af00\">0</span> │\n",
       "├─────────────────────────────────┼────────────────────────┼───────────────┤\n",
       "│ batch_normalization_5           │ (<span style=\"color: #00d7ff; text-decoration-color: #00d7ff\">None</span>, <span style=\"color: #00af00; text-decoration-color: #00af00\">29</span>, <span style=\"color: #00af00; text-decoration-color: #00af00\">29</span>, <span style=\"color: #00af00; text-decoration-color: #00af00\">64</span>)     │           <span style=\"color: #00af00; text-decoration-color: #00af00\">256</span> │\n",
       "│ (<span style=\"color: #0087ff; text-decoration-color: #0087ff\">BatchNormalization</span>)            │                        │               │\n",
       "├─────────────────────────────────┼────────────────────────┼───────────────┤\n",
       "│ conv2d_6 (<span style=\"color: #0087ff; text-decoration-color: #0087ff\">Conv2D</span>)               │ (<span style=\"color: #00d7ff; text-decoration-color: #00d7ff\">None</span>, <span style=\"color: #00af00; text-decoration-color: #00af00\">25</span>, <span style=\"color: #00af00; text-decoration-color: #00af00\">25</span>, <span style=\"color: #00af00; text-decoration-color: #00af00\">32</span>)     │        <span style=\"color: #00af00; text-decoration-color: #00af00\">51,232</span> │\n",
       "├─────────────────────────────────┼────────────────────────┼───────────────┤\n",
       "│ max_pooling2d_6 (<span style=\"color: #0087ff; text-decoration-color: #0087ff\">MaxPooling2D</span>)  │ (<span style=\"color: #00d7ff; text-decoration-color: #00d7ff\">None</span>, <span style=\"color: #00af00; text-decoration-color: #00af00\">12</span>, <span style=\"color: #00af00; text-decoration-color: #00af00\">12</span>, <span style=\"color: #00af00; text-decoration-color: #00af00\">32</span>)     │             <span style=\"color: #00af00; text-decoration-color: #00af00\">0</span> │\n",
       "├─────────────────────────────────┼────────────────────────┼───────────────┤\n",
       "│ batch_normalization_6           │ (<span style=\"color: #00d7ff; text-decoration-color: #00d7ff\">None</span>, <span style=\"color: #00af00; text-decoration-color: #00af00\">12</span>, <span style=\"color: #00af00; text-decoration-color: #00af00\">12</span>, <span style=\"color: #00af00; text-decoration-color: #00af00\">32</span>)     │           <span style=\"color: #00af00; text-decoration-color: #00af00\">128</span> │\n",
       "│ (<span style=\"color: #0087ff; text-decoration-color: #0087ff\">BatchNormalization</span>)            │                        │               │\n",
       "├─────────────────────────────────┼────────────────────────┼───────────────┤\n",
       "│ conv2d_7 (<span style=\"color: #0087ff; text-decoration-color: #0087ff\">Conv2D</span>)               │ (<span style=\"color: #00d7ff; text-decoration-color: #00d7ff\">None</span>, <span style=\"color: #00af00; text-decoration-color: #00af00\">8</span>, <span style=\"color: #00af00; text-decoration-color: #00af00\">8</span>, <span style=\"color: #00af00; text-decoration-color: #00af00\">16</span>)       │        <span style=\"color: #00af00; text-decoration-color: #00af00\">12,816</span> │\n",
       "├─────────────────────────────────┼────────────────────────┼───────────────┤\n",
       "│ max_pooling2d_7 (<span style=\"color: #0087ff; text-decoration-color: #0087ff\">MaxPooling2D</span>)  │ (<span style=\"color: #00d7ff; text-decoration-color: #00d7ff\">None</span>, <span style=\"color: #00af00; text-decoration-color: #00af00\">4</span>, <span style=\"color: #00af00; text-decoration-color: #00af00\">4</span>, <span style=\"color: #00af00; text-decoration-color: #00af00\">16</span>)       │             <span style=\"color: #00af00; text-decoration-color: #00af00\">0</span> │\n",
       "├─────────────────────────────────┼────────────────────────┼───────────────┤\n",
       "│ batch_normalization_7           │ (<span style=\"color: #00d7ff; text-decoration-color: #00d7ff\">None</span>, <span style=\"color: #00af00; text-decoration-color: #00af00\">4</span>, <span style=\"color: #00af00; text-decoration-color: #00af00\">4</span>, <span style=\"color: #00af00; text-decoration-color: #00af00\">16</span>)       │            <span style=\"color: #00af00; text-decoration-color: #00af00\">64</span> │\n",
       "│ (<span style=\"color: #0087ff; text-decoration-color: #0087ff\">BatchNormalization</span>)            │                        │               │\n",
       "├─────────────────────────────────┼────────────────────────┼───────────────┤\n",
       "│ flatten_1 (<span style=\"color: #0087ff; text-decoration-color: #0087ff\">Flatten</span>)             │ (<span style=\"color: #00d7ff; text-decoration-color: #00d7ff\">None</span>, <span style=\"color: #00af00; text-decoration-color: #00af00\">256</span>)            │             <span style=\"color: #00af00; text-decoration-color: #00af00\">0</span> │\n",
       "├─────────────────────────────────┼────────────────────────┼───────────────┤\n",
       "│ dense_1 (<span style=\"color: #0087ff; text-decoration-color: #0087ff\">Dense</span>)                 │ (<span style=\"color: #00d7ff; text-decoration-color: #00d7ff\">None</span>, <span style=\"color: #00af00; text-decoration-color: #00af00\">1</span>)              │           <span style=\"color: #00af00; text-decoration-color: #00af00\">257</span> │\n",
       "└─────────────────────────────────┴────────────────────────┴───────────────┘\n",
       "</pre>\n"
      ],
      "text/plain": [
       "┏━━━━━━━━━━━━━━━━━━━━━━━━━━━━━━━━━┳━━━━━━━━━━━━━━━━━━━━━━━━┳━━━━━━━━━━━━━━━┓\n",
       "┃\u001b[1m \u001b[0m\u001b[1mLayer (type)                   \u001b[0m\u001b[1m \u001b[0m┃\u001b[1m \u001b[0m\u001b[1mOutput Shape          \u001b[0m\u001b[1m \u001b[0m┃\u001b[1m \u001b[0m\u001b[1m      Param #\u001b[0m\u001b[1m \u001b[0m┃\n",
       "┡━━━━━━━━━━━━━━━━━━━━━━━━━━━━━━━━━╇━━━━━━━━━━━━━━━━━━━━━━━━╇━━━━━━━━━━━━━━━┩\n",
       "│ conv2d_4 (\u001b[38;5;33mConv2D\u001b[0m)               │ (\u001b[38;5;45mNone\u001b[0m, \u001b[38;5;34m124\u001b[0m, \u001b[38;5;34m124\u001b[0m, \u001b[38;5;34m128\u001b[0m)  │         \u001b[38;5;34m9,728\u001b[0m │\n",
       "├─────────────────────────────────┼────────────────────────┼───────────────┤\n",
       "│ max_pooling2d_4 (\u001b[38;5;33mMaxPooling2D\u001b[0m)  │ (\u001b[38;5;45mNone\u001b[0m, \u001b[38;5;34m62\u001b[0m, \u001b[38;5;34m62\u001b[0m, \u001b[38;5;34m128\u001b[0m)    │             \u001b[38;5;34m0\u001b[0m │\n",
       "├─────────────────────────────────┼────────────────────────┼───────────────┤\n",
       "│ batch_normalization_4           │ (\u001b[38;5;45mNone\u001b[0m, \u001b[38;5;34m62\u001b[0m, \u001b[38;5;34m62\u001b[0m, \u001b[38;5;34m128\u001b[0m)    │           \u001b[38;5;34m512\u001b[0m │\n",
       "│ (\u001b[38;5;33mBatchNormalization\u001b[0m)            │                        │               │\n",
       "├─────────────────────────────────┼────────────────────────┼───────────────┤\n",
       "│ conv2d_5 (\u001b[38;5;33mConv2D\u001b[0m)               │ (\u001b[38;5;45mNone\u001b[0m, \u001b[38;5;34m58\u001b[0m, \u001b[38;5;34m58\u001b[0m, \u001b[38;5;34m64\u001b[0m)     │       \u001b[38;5;34m204,864\u001b[0m │\n",
       "├─────────────────────────────────┼────────────────────────┼───────────────┤\n",
       "│ max_pooling2d_5 (\u001b[38;5;33mMaxPooling2D\u001b[0m)  │ (\u001b[38;5;45mNone\u001b[0m, \u001b[38;5;34m29\u001b[0m, \u001b[38;5;34m29\u001b[0m, \u001b[38;5;34m64\u001b[0m)     │             \u001b[38;5;34m0\u001b[0m │\n",
       "├─────────────────────────────────┼────────────────────────┼───────────────┤\n",
       "│ batch_normalization_5           │ (\u001b[38;5;45mNone\u001b[0m, \u001b[38;5;34m29\u001b[0m, \u001b[38;5;34m29\u001b[0m, \u001b[38;5;34m64\u001b[0m)     │           \u001b[38;5;34m256\u001b[0m │\n",
       "│ (\u001b[38;5;33mBatchNormalization\u001b[0m)            │                        │               │\n",
       "├─────────────────────────────────┼────────────────────────┼───────────────┤\n",
       "│ conv2d_6 (\u001b[38;5;33mConv2D\u001b[0m)               │ (\u001b[38;5;45mNone\u001b[0m, \u001b[38;5;34m25\u001b[0m, \u001b[38;5;34m25\u001b[0m, \u001b[38;5;34m32\u001b[0m)     │        \u001b[38;5;34m51,232\u001b[0m │\n",
       "├─────────────────────────────────┼────────────────────────┼───────────────┤\n",
       "│ max_pooling2d_6 (\u001b[38;5;33mMaxPooling2D\u001b[0m)  │ (\u001b[38;5;45mNone\u001b[0m, \u001b[38;5;34m12\u001b[0m, \u001b[38;5;34m12\u001b[0m, \u001b[38;5;34m32\u001b[0m)     │             \u001b[38;5;34m0\u001b[0m │\n",
       "├─────────────────────────────────┼────────────────────────┼───────────────┤\n",
       "│ batch_normalization_6           │ (\u001b[38;5;45mNone\u001b[0m, \u001b[38;5;34m12\u001b[0m, \u001b[38;5;34m12\u001b[0m, \u001b[38;5;34m32\u001b[0m)     │           \u001b[38;5;34m128\u001b[0m │\n",
       "│ (\u001b[38;5;33mBatchNormalization\u001b[0m)            │                        │               │\n",
       "├─────────────────────────────────┼────────────────────────┼───────────────┤\n",
       "│ conv2d_7 (\u001b[38;5;33mConv2D\u001b[0m)               │ (\u001b[38;5;45mNone\u001b[0m, \u001b[38;5;34m8\u001b[0m, \u001b[38;5;34m8\u001b[0m, \u001b[38;5;34m16\u001b[0m)       │        \u001b[38;5;34m12,816\u001b[0m │\n",
       "├─────────────────────────────────┼────────────────────────┼───────────────┤\n",
       "│ max_pooling2d_7 (\u001b[38;5;33mMaxPooling2D\u001b[0m)  │ (\u001b[38;5;45mNone\u001b[0m, \u001b[38;5;34m4\u001b[0m, \u001b[38;5;34m4\u001b[0m, \u001b[38;5;34m16\u001b[0m)       │             \u001b[38;5;34m0\u001b[0m │\n",
       "├─────────────────────────────────┼────────────────────────┼───────────────┤\n",
       "│ batch_normalization_7           │ (\u001b[38;5;45mNone\u001b[0m, \u001b[38;5;34m4\u001b[0m, \u001b[38;5;34m4\u001b[0m, \u001b[38;5;34m16\u001b[0m)       │            \u001b[38;5;34m64\u001b[0m │\n",
       "│ (\u001b[38;5;33mBatchNormalization\u001b[0m)            │                        │               │\n",
       "├─────────────────────────────────┼────────────────────────┼───────────────┤\n",
       "│ flatten_1 (\u001b[38;5;33mFlatten\u001b[0m)             │ (\u001b[38;5;45mNone\u001b[0m, \u001b[38;5;34m256\u001b[0m)            │             \u001b[38;5;34m0\u001b[0m │\n",
       "├─────────────────────────────────┼────────────────────────┼───────────────┤\n",
       "│ dense_1 (\u001b[38;5;33mDense\u001b[0m)                 │ (\u001b[38;5;45mNone\u001b[0m, \u001b[38;5;34m1\u001b[0m)              │           \u001b[38;5;34m257\u001b[0m │\n",
       "└─────────────────────────────────┴────────────────────────┴───────────────┘\n"
      ]
     },
     "metadata": {},
     "output_type": "display_data"
    },
    {
     "data": {
      "text/html": [
       "<pre style=\"white-space:pre;overflow-x:auto;line-height:normal;font-family:Menlo,'DejaVu Sans Mono',consolas,'Courier New',monospace\"><span style=\"font-weight: bold\"> Total params: </span><span style=\"color: #00af00; text-decoration-color: #00af00\">279,857</span> (1.07 MB)\n",
       "</pre>\n"
      ],
      "text/plain": [
       "\u001b[1m Total params: \u001b[0m\u001b[38;5;34m279,857\u001b[0m (1.07 MB)\n"
      ]
     },
     "metadata": {},
     "output_type": "display_data"
    },
    {
     "data": {
      "text/html": [
       "<pre style=\"white-space:pre;overflow-x:auto;line-height:normal;font-family:Menlo,'DejaVu Sans Mono',consolas,'Courier New',monospace\"><span style=\"font-weight: bold\"> Trainable params: </span><span style=\"color: #00af00; text-decoration-color: #00af00\">279,377</span> (1.07 MB)\n",
       "</pre>\n"
      ],
      "text/plain": [
       "\u001b[1m Trainable params: \u001b[0m\u001b[38;5;34m279,377\u001b[0m (1.07 MB)\n"
      ]
     },
     "metadata": {},
     "output_type": "display_data"
    },
    {
     "data": {
      "text/html": [
       "<pre style=\"white-space:pre;overflow-x:auto;line-height:normal;font-family:Menlo,'DejaVu Sans Mono',consolas,'Courier New',monospace\"><span style=\"font-weight: bold\"> Non-trainable params: </span><span style=\"color: #00af00; text-decoration-color: #00af00\">480</span> (1.88 KB)\n",
       "</pre>\n"
      ],
      "text/plain": [
       "\u001b[1m Non-trainable params: \u001b[0m\u001b[38;5;34m480\u001b[0m (1.88 KB)\n"
      ]
     },
     "metadata": {},
     "output_type": "display_data"
    }
   ],
   "source": [
    "model.summary()"
   ]
  },
  {
   "cell_type": "markdown",
   "id": "d97ef710",
   "metadata": {
    "papermill": {
     "duration": 0.009144,
     "end_time": "2023-09-13T21:06:22.491916",
     "exception": false,
     "start_time": "2023-09-13T21:06:22.482772",
     "status": "completed"
    },
    "tags": []
   },
   "source": [
    "WOW 279k+ prams lets continue\n",
    "\n",
    "lets compile the model with binary_crossentropy as the loss, Adam as optimizer and Accuracy and recall as metrics\n"
   ]
  },
  {
   "cell_type": "code",
   "execution_count": 6,
   "id": "af903d2e",
   "metadata": {
    "execution": {
     "iopub.execute_input": "2023-09-13T21:06:22.511715Z",
     "iopub.status.busy": "2023-09-13T21:06:22.511441Z",
     "iopub.status.idle": "2023-09-13T21:06:22.528867Z",
     "shell.execute_reply": "2023-09-13T21:06:22.528001Z"
    },
    "papermill": {
     "duration": 0.029678,
     "end_time": "2023-09-13T21:06:22.530820",
     "exception": false,
     "start_time": "2023-09-13T21:06:22.501142",
     "status": "completed"
    },
    "tags": []
   },
   "outputs": [],
   "source": [
    "model.compile(loss=\"binary_crossentropy\",\n",
    "              optimizer=\"Adam\",\n",
    "              metrics=[\"Accuracy\"]\n",
    ")"
   ]
  },
  {
   "cell_type": "markdown",
   "id": "e4da820b",
   "metadata": {
    "papermill": {
     "duration": 0.009257,
     "end_time": "2023-09-13T21:06:22.549639",
     "exception": false,
     "start_time": "2023-09-13T21:06:22.540382",
     "status": "completed"
    },
    "tags": []
   },
   "source": [
    "lets get some callbacks"
   ]
  },
  {
   "cell_type": "code",
   "execution_count": 7,
   "id": "f0dd2a23",
   "metadata": {
    "execution": {
     "iopub.execute_input": "2023-09-13T21:06:22.570238Z",
     "iopub.status.busy": "2023-09-13T21:06:22.569444Z",
     "iopub.status.idle": "2023-09-13T21:06:22.574496Z",
     "shell.execute_reply": "2023-09-13T21:06:22.573536Z"
    },
    "papermill": {
     "duration": 0.017385,
     "end_time": "2023-09-13T21:06:22.576475",
     "exception": false,
     "start_time": "2023-09-13T21:06:22.559090",
     "status": "completed"
    },
    "tags": []
   },
   "outputs": [],
   "source": [
    "es = tf.keras.callbacks.EarlyStopping(\n",
    "    monitor='Accuracy',\n",
    "    min_delta=0,\n",
    "    patience=0,\n",
    "    verbose=0,\n",
    "    mode='auto',\n",
    "    baseline=None,\n",
    "    restore_best_weights=True,\n",
    "    start_from_epoch=10\n",
    ")\n"
   ]
  },
  {
   "cell_type": "code",
   "execution_count": 8,
   "id": "6bded79e",
   "metadata": {
    "execution": {
     "iopub.execute_input": "2023-09-13T21:06:22.597445Z",
     "iopub.status.busy": "2023-09-13T21:06:22.595991Z",
     "iopub.status.idle": "2023-09-13T21:06:52.510333Z",
     "shell.execute_reply": "2023-09-13T21:06:52.509327Z"
    },
    "papermill": {
     "duration": 29.92681,
     "end_time": "2023-09-13T21:06:52.512683",
     "exception": false,
     "start_time": "2023-09-13T21:06:22.585873",
     "status": "completed"
    },
    "tags": []
   },
   "outputs": [
    {
     "ename": "NameError",
     "evalue": "name 'train' is not defined",
     "output_type": "error",
     "traceback": [
      "\u001b[31m---------------------------------------------------------------------------\u001b[39m",
      "\u001b[31mNameError\u001b[39m                                 Traceback (most recent call last)",
      "\u001b[36mCell\u001b[39m\u001b[36m \u001b[39m\u001b[32mIn[8]\u001b[39m\u001b[32m, line 2\u001b[39m\n\u001b[32m      1\u001b[39m \u001b[38;5;28;01mwith\u001b[39;00m tf.device(\u001b[33m'\u001b[39m\u001b[33m/GPU:0\u001b[39m\u001b[33m'\u001b[39m):\n\u001b[32m----> \u001b[39m\u001b[32m2\u001b[39m     model.fit(\u001b[43mtrain\u001b[49m,epochs=\u001b[32m50\u001b[39m,callbacks=[es])\n",
      "\u001b[31mNameError\u001b[39m: name 'train' is not defined"
     ]
    }
   ],
   "source": [
    "with tf.device('/GPU:0'):\n",
    "    model.fit(train,epochs=50,callbacks=[es])"
   ]
  },
  {
   "cell_type": "markdown",
   "id": "99802abc",
   "metadata": {
    "papermill": {
     "duration": 0.013658,
     "end_time": "2023-09-13T21:06:52.540758",
     "exception": false,
     "start_time": "2023-09-13T21:06:52.527100",
     "status": "completed"
    },
    "tags": []
   },
   "source": [
    "will that went 'to great' jokes asside everything was perfect great job we got a 100% on training great job!!"
   ]
  }
 ],
 "metadata": {
  "kernelspec": {
   "display_name": "Python 3",
   "language": "python",
   "name": "python3"
  },
  "language_info": {
   "codemirror_mode": {
    "name": "ipython",
    "version": 3
   },
   "file_extension": ".py",
   "mimetype": "text/x-python",
   "name": "python",
   "nbconvert_exporter": "python",
   "pygments_lexer": "ipython3",
   "version": "3.12.1"
  },
  "papermill": {
   "default_parameters": {},
   "duration": 49.584322,
   "end_time": "2023-09-13T21:06:55.791206",
   "environment_variables": {},
   "exception": null,
   "input_path": "__notebook__.ipynb",
   "output_path": "__notebook__.ipynb",
   "parameters": {},
   "start_time": "2023-09-13T21:06:06.206884",
   "version": "2.4.0"
  }
 },
 "nbformat": 4,
 "nbformat_minor": 5
}
